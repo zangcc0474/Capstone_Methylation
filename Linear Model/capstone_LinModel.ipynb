{
 "cells": [
  {
   "cell_type": "code",
   "execution_count": 1,
   "metadata": {
    "collapsed": true
   },
   "outputs": [],
   "source": [
    "## Jun code ##\n",
    "\n",
    "import numpy as np\n",
    "import csv\n",
    "import matplotlib.pyplot as plt\n",
    "from scipy.stats import gaussian_kde\n",
    "from sklearn.linear_model import LinearRegression\n",
    "from sklearn.preprocessing import OneHotEncoder\n",
    "from scipy import stats"
   ]
  },
  {
   "cell_type": "code",
   "execution_count": 3,
   "metadata": {},
   "outputs": [],
   "source": [
    "with open(\"/Users/papiya/Desktop/CU_Capstone/Dataset/newmatrix.csv\") as file:\n",
    "    read_file = csv.reader(file)\n",
    "    Data = list(line for line in read_file)\n",
    "file.close()"
   ]
  },
  {
   "cell_type": "code",
   "execution_count": 4,
   "metadata": {
    "collapsed": true
   },
   "outputs": [],
   "source": [
    "Sample_Names = Data[0]\n",
    "Site_Names = list(line[0] for line in Data[1:])\n",
    "Beta_Matrix = list(list(map(float, line[1:])) for line in Data[1:])\n",
    "beta_value= np.stack(Beta_Matrix)"
   ]
  },
  {
   "cell_type": "code",
   "execution_count": 5,
   "metadata": {
    "collapsed": true
   },
   "outputs": [],
   "source": [
    "m_value = np.log2(beta_value/(1 - beta_value))"
   ]
  },
  {
   "cell_type": "markdown",
   "metadata": {},
   "source": [
    "with open('/Users/papiya/Desktop/CU_Capstone/Dataset/bmiStatus.csv') as file:\n",
    "    read_file = csv.reader(file)\n",
    "    bmi_l = list(line for line in read_file)\n",
    "file.close()\n",
    "\n",
    "with open('/Users/papiya/Desktop/CU_Capstone/Dataset/age.csv') as file:\n",
    "    read_file = csv.reader(file)\n",
    "    age_l = list(line for line in read_file)\n",
    "file.close()\n",
    "\n",
    "with open('/Users/papiya/Desktop/CU_Capstone/Dataset/smoking_status.csv') as file:\n",
    "    read_file = csv.reader(file)\n",
    "    ss_l = list(line for line in read_file)\n",
    "file.close()"
   ]
  },
  {
   "cell_type": "markdown",
   "metadata": {},
   "source": [
    "bmi = np.array(list(item[1] for item in bmi_l)[1:]).astype(float)\n",
    "age = np.array(list(item[1] for item in age_l)[1:]).astype(float)\n",
    "ss = np.array(list(item[1] for item in ss_l)[1:]).astype(float)"
   ]
  },
  {
   "cell_type": "code",
   "execution_count": 30,
   "metadata": {},
   "outputs": [
    {
     "data": {
      "text/html": [
       "<div>\n",
       "<style>\n",
       "    .dataframe thead tr:only-child th {\n",
       "        text-align: right;\n",
       "    }\n",
       "\n",
       "    .dataframe thead th {\n",
       "        text-align: left;\n",
       "    }\n",
       "\n",
       "    .dataframe tbody tr th {\n",
       "        vertical-align: top;\n",
       "    }\n",
       "</style>\n",
       "<table border=\"1\" class=\"dataframe\">\n",
       "  <thead>\n",
       "    <tr style=\"text-align: right;\">\n",
       "      <th></th>\n",
       "      <th>Age</th>\n",
       "      <th>BMI</th>\n",
       "      <th>Smoke_0</th>\n",
       "      <th>Smoke_1</th>\n",
       "      <th>Smoke_2</th>\n",
       "    </tr>\n",
       "  </thead>\n",
       "  <tbody>\n",
       "    <tr>\n",
       "      <th>0</th>\n",
       "      <td>42.69</td>\n",
       "      <td>18.7</td>\n",
       "      <td>0</td>\n",
       "      <td>0</td>\n",
       "      <td>1</td>\n",
       "    </tr>\n",
       "    <tr>\n",
       "      <th>1</th>\n",
       "      <td>67.75</td>\n",
       "      <td>35.9</td>\n",
       "      <td>1</td>\n",
       "      <td>0</td>\n",
       "      <td>0</td>\n",
       "    </tr>\n",
       "  </tbody>\n",
       "</table>\n",
       "</div>"
      ],
      "text/plain": [
       "     Age   BMI  Smoke_0  Smoke_1  Smoke_2\n",
       "0  42.69  18.7        0        0        1\n",
       "1  67.75  35.9        1        0        0"
      ]
     },
     "execution_count": 30,
     "metadata": {},
     "output_type": "execute_result"
    }
   ],
   "source": [
    "## PS changes\n",
    "\n",
    "import pandas as pd\n",
    "\n",
    "df_age = pd.read_csv('/Users/papiya/Desktop/CU_Capstone/Dataset/age.csv')\n",
    "df_age = df_age.drop(df_age.columns[0], axis=1)\n",
    "df_bmi = pd.read_csv('/Users/papiya/Desktop/CU_Capstone/Dataset/bmiStatus.csv')\n",
    "df_bmi = df_bmi.drop(df_bmi.columns[0], axis=1)\n",
    "df_smok = pd.read_csv('/Users/papiya/Desktop/CU_Capstone/Dataset/smoking_status.csv')\n",
    "df_smok = df_smok.drop(df_smok.columns[0], axis=1)\n",
    "df_smok = df_smok[df_smok.columns[0]].astype('object')\n",
    "s = pd.Series(list('012')) # one hot encoding 'smoking status'\n",
    "df_smok = pd.get_dummies(df_smok)\n",
    "\n",
    "#pd.concat(objs, axis=0, join='outer', join_axes=None, ignore_index=False,\n",
    "          #keys=None, levels=None, names=None, verify_integrity=False,\n",
    "          #copy=True)\n",
    "df = pd.concat([df_age, df_bmi, df_smok], axis=1, ignore_index=True)\n",
    "df.columns = ['Age', 'BMI', 'Smoke_0', 'Smoke_1', 'Smoke_2']\n",
    "df.head(2)\n",
    "\n",
    "#enc = OneHotEncoder()\n",
    "#enc.fit(ss)"
   ]
  },
  {
   "cell_type": "markdown",
   "metadata": {},
   "source": [
    "#To construct a independent variable matrix with 1, age, bmi, smoking_status 1 and 2 as the five features \n",
    "#(smoking status 0 dropped so matrix invertible)\n",
    "\n",
    "enc = OneHotEncoder()\n",
    "enc.fit(np.expand_dims(np.unique(ss),1))\n",
    "new_ss = enc.transform(np.expand_dims(ss, 1)).toarray()\n",
    "X = np.hstack([np.vstack([np.ones(bmi.shape[0]), age, bmi]).T, new_ss[:,1:]])"
   ]
  },
  {
   "cell_type": "code",
   "execution_count": 31,
   "metadata": {},
   "outputs": [
    {
     "data": {
      "text/plain": [
       "array([[ 42.69,  18.7 ,   0.  ,   0.  ,   1.  ],\n",
       "       [ 67.75,  35.9 ,   1.  ,   0.  ,   0.  ]])"
      ]
     },
     "execution_count": 31,
     "metadata": {},
     "output_type": "execute_result"
    }
   ],
   "source": [
    "X = df.as_matrix()\n",
    "X[:2]"
   ]
  },
  {
   "cell_type": "code",
   "execution_count": 32,
   "metadata": {
    "collapsed": true
   },
   "outputs": [],
   "source": [
    "sample_id = Sample_Names\n",
    "site_id = Site_Names\n",
    "beta_values = beta_value\n",
    "m_values = m_value\n",
    "X = X"
   ]
  },
  {
   "cell_type": "markdown",
   "metadata": {},
   "source": [
    "beta_range = np.linspace(0,1,200)\n",
    "for i in range(beta_values.shape[1]):\n",
    "    density = gaussian_kde(beta_values[:,i])\n",
    "    #density.covariance_factor = lambda : .25\n",
    "    #density._compute_covariance()\n",
    "    plt.plot(beta_range, density(beta_range),'g')\n",
    "plt.show()"
   ]
  },
  {
   "cell_type": "code",
   "execution_count": 33,
   "metadata": {},
   "outputs": [
    {
     "data": {
      "text/plain": [
       "LinearRegression(copy_X=True, fit_intercept=False, n_jobs=-1, normalize=False)"
      ]
     },
     "execution_count": 33,
     "metadata": {},
     "output_type": "execute_result"
    }
   ],
   "source": [
    "lr_m = LinearRegression(fit_intercept= False, n_jobs= -1)\n",
    "lr_m.fit(X, m_values.T)"
   ]
  },
  {
   "cell_type": "code",
   "execution_count": 34,
   "metadata": {
    "collapsed": true
   },
   "outputs": [],
   "source": [
    "mse = np.sum((lr_m.predict(X) - m_values.T)**2 , axis = 0)/ float(X.shape[0] - X.shape[1])\n",
    "\"\"\"\n",
    "standard error is the square root of the variance of the estimate, which is the element in the diagnol of\n",
    "the covariance matrix of the estimate. Use MSE as the estimated value of variance of the error. \n",
    "\"\"\"\n",
    "se = np.array([np.sqrt(np.diagonal(mse[i] * np.linalg.inv(np.dot(X.T, X)) )) for i in range(mse.shape[0])]) \n",
    "t_m = lr_m.coef_/ se\n",
    "p_m = 2 * (1 - stats.t.cdf(np.abs(t_m), X.shape[0] - X.shape[1]))\n",
    "\n",
    "msr = np.sum((lr_m.predict(X) - np.mean(m_values.T, axis =0))**2, axis = 0) / float(X.shape[1] - 1)\n",
    "f_m = msr / mse\n",
    "pf_m = 1 - stats.f.cdf(np.abs(f_m), X.shape[1] -1, X.shape[0] - X.shape[1])"
   ]
  },
  {
   "cell_type": "code",
   "execution_count": 36,
   "metadata": {
    "collapsed": true
   },
   "outputs": [],
   "source": [
    "Sig_b = np.where(pf_m < 0.05/m_values.shape[0]) # Bonferonni?\n",
    "\n",
    "keys = list(site_id[i] for i in Sig_b[0])\n",
    "Features = ['age', 'bmi', 'smoking factor 0', 'smoking factor 1', 'smoking factor 2']\n",
    "Sig_f = np.where(p_m[Sig_b] < 0.05)\n",
    "factors = list(Features[i] for i in Sig_f[1])\n",
    "cites = list(keys[i] for i in Sig_f[0])\n",
    "coef = list(lr_m.coef_[Sig_b][Sig_f[0][i],Sig_f[1][i]] for i in range(len(Sig_f[0])))\n",
    "p_value = list(p_m[Sig_b][Sig_f[0][i],Sig_f[1][i]] for i in range(len(Sig_f[0])))\n",
    "result = np.stack((cites, factors, coef, p_value)).T"
   ]
  },
  {
   "cell_type": "code",
   "execution_count": 40,
   "metadata": {},
   "outputs": [
    {
     "data": {
      "text/plain": [
       "array(['cg00868131', 'smoking factor 0', '-0.5455663777236318',\n",
       "       '0.0027743535820747844'], \n",
       "      dtype='<U32')"
      ]
     },
     "execution_count": 40,
     "metadata": {},
     "output_type": "execute_result"
    }
   ],
   "source": [
    "result[5]"
   ]
  },
  {
   "cell_type": "code",
   "execution_count": 42,
   "metadata": {
    "collapsed": true
   },
   "outputs": [],
   "source": [
    "with open('/Users/papiya/Desktop/CU_Capstone/Dataset/result_1.csv', 'w', newline='') as file:\n",
    "    for line in result:\n",
    "        file.write(str(','.join(list(line))+'\\n'))"
   ]
  },
  {
   "cell_type": "code",
   "execution_count": null,
   "metadata": {
    "collapsed": true
   },
   "outputs": [],
   "source": []
  }
 ],
 "metadata": {
  "kernelspec": {
   "display_name": "Python 3",
   "language": "python",
   "name": "python3"
  },
  "language_info": {
   "codemirror_mode": {
    "name": "ipython",
    "version": 3
   },
   "file_extension": ".py",
   "mimetype": "text/x-python",
   "name": "python",
   "nbconvert_exporter": "python",
   "pygments_lexer": "ipython3",
   "version": "3.6.1"
  }
 },
 "nbformat": 4,
 "nbformat_minor": 2
}
