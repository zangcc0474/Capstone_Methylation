{
 "cells": [
  {
   "cell_type": "code",
   "execution_count": 2,
   "metadata": {},
   "outputs": [],
   "source": [
    "import numpy as np\n",
    "import csv\n",
    "import matplotlib.pyplot as plt\n",
    "from scipy.stats import gaussian_kde"
   ]
  },
  {
   "cell_type": "code",
   "execution_count": 63,
   "metadata": {},
   "outputs": [],
   "source": [
    "with open('Data/cleaned_data.csv') as file:\n",
    "    read_file = csv.reader(file)\n",
    "    Data = list(line for line in read_file)\n",
    "file.close()"
   ]
  },
  {
   "cell_type": "code",
   "execution_count": 64,
   "metadata": {},
   "outputs": [],
   "source": [
    "Sample_Names = Data[0]\n",
    "Site_Names = list(line[0] for line in Data[1:])\n",
    "Beta_Matrix = list(list(map(float, line[1:])) for line in Data[1:])"
   ]
  },
  {
   "cell_type": "code",
   "execution_count": 72,
   "metadata": {},
   "outputs": [],
   "source": [
    "beta_value= np.stack(Beta_Matrix)"
   ]
  },
  {
   "cell_type": "code",
   "execution_count": 1,
   "metadata": {},
   "outputs": [
    {
     "name": "stderr",
     "output_type": "stream",
     "text": [
      "/Users/Jun/anaconda/lib/python3.6/site-packages/IPython/config.py:13: ShimWarning: The `IPython.config` package has been deprecated since IPython 4.0. You should import from traitlets.config instead.\n",
      "  \"You should import from traitlets.config instead.\", ShimWarning)\n",
      "/Users/Jun/anaconda/lib/python3.6/site-packages/ipycache.py:17: UserWarning: IPython.utils.traitlets has moved to a top-level traitlets package.\n",
      "  from IPython.utils.traitlets import Unicode\n"
     ]
    }
   ],
   "source": [
    "%load_ext ipycache"
   ]
  },
  {
   "cell_type": "code",
   "execution_count": 3,
   "metadata": {},
   "outputs": [
    {
     "name": "stdout",
     "output_type": "stream",
     "text": [
      "[Skipped the cell's code and loaded variables beta_values, sample_id, site_id from file '/Users/Jun/Documents/Fall 2017/Capstone/matrix_cache.pkl'.]\n"
     ]
    }
   ],
   "source": [
    "%%cache matrix_cache.pkl sample_id site_id beta_values\n",
    "sample_id = Sample_Names\n",
    "site_id = Site_Names\n",
    "beta_values = beta_value"
   ]
  },
  {
   "cell_type": "code",
   "execution_count": 5,
   "metadata": {},
   "outputs": [],
   "source": [
    "with open('Data/bmi.csv') as file:\n",
    "    read_file = csv.reader(file)\n",
    "    bmi_l = list(line for line in read_file)\n",
    "file.close()\n",
    "\n",
    "with open('Data/age.csv') as file:\n",
    "    read_file = csv.reader(file)\n",
    "    age_l = list(line for line in read_file)\n",
    "file.close()\n",
    "\n",
    "with open('Data/smoking_status.csv') as file:\n",
    "    read_file = csv.reader(file)\n",
    "    ss_l = list(line for line in read_file)\n",
    "file.close()"
   ]
  },
  {
   "cell_type": "code",
   "execution_count": 6,
   "metadata": {},
   "outputs": [],
   "source": [
    "bmi = np.array(list(item[1] for item in bmi_l)[1:]).astype(float)\n",
    "age = np.array(list(item[1] for item in age_l)[1:]).astype(float)\n",
    "ss = np.array(list(item[1] for item in ss_l)[1:]).astype(float)"
   ]
  },
  {
   "cell_type": "code",
   "execution_count": 20,
   "metadata": {},
   "outputs": [
    {
     "data": {
      "image/png": "[encoded data removed]",
      "text/plain": [
       "<matplotlib.figure.Figure at 0x1a52810908>"
      ]
     },
     "metadata": {},
     "output_type": "display_data"
    }
   ],
   "source": [
    "beta_range = np.linspace(0,1,200)\n",
    "for i in range(beta_values.shape[1]):\n",
    "    density = gaussian_kde(beta_values[:,i])\n",
    "    #density.covariance_factor = lambda : .25\n",
    "    #density._compute_covariance()\n",
    "    plt.plot(beta_range, density(beta_range),'g')\n",
    "plt.show()"
   ]
  },
  {
   "cell_type": "code",
   "execution_count": 4,
   "metadata": {},
   "outputs": [],
   "source": [
    "from sklearn.linear_model import LinearRegression"
   ]
  },
  {
   "cell_type": "code",
   "execution_count": 14,
   "metadata": {},
   "outputs": [
    {
     "data": {
      "text/plain": [
       "LinearRegression(copy_X=True, fit_intercept=True, n_jobs=1, normalize=False)"
      ]
     },
     "execution_count": 14,
     "metadata": {},
     "output_type": "execute_result"
    }
   ],
   "source": [
    "X = np.vstack([bmi, age, ss]).T\n",
    "lr = LinearRegression()\n",
    "lr.fit(X, beta_values[0])"
   ]
  },
  {
   "cell_type": "code",
   "execution_count": 15,
   "metadata": {},
   "outputs": [
    {
     "data": {
      "text/plain": [
       "array([ -1.88774846e-05,  -4.57304309e-06,  -7.34546198e-04])"
      ]
     },
     "execution_count": 15,
     "metadata": {},
     "output_type": "execute_result"
    }
   ],
   "source": [
    "lr.coef_"
   ]
  },
  {
   "cell_type": "code",
   "execution_count": null,
   "metadata": {},
   "outputs": [],
   "source": []
  }
 ],
 "metadata": {
  "kernelspec": {
   "display_name": "Python 3",
   "language": "python",
   "name": "python3"
  },
  "language_info": {
   "codemirror_mode": {
    "name": "ipython",
    "version": 3
   },
   "file_extension": ".py",
   "mimetype": "text/x-python",
   "name": "python",
   "nbconvert_exporter": "python",
   "pygments_lexer": "ipython3",
   "version": "3.6.3"
  }
 },
 "nbformat": 4,
 "nbformat_minor": 2
}
